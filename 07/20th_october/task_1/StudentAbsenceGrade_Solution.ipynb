{
 "cells": [
  {
   "cell_type": "code",
   "execution_count": 157,
   "id": "2146f755",
   "metadata": {},
   "outputs": [],
   "source": [
    "# Student grades predicted based on absence - Eaaa, Autumn 2021\n",
    "# Sila, 23rd August 2021."
   ]
  },
  {
   "cell_type": "code",
   "execution_count": 62,
   "id": "0d4ae379",
   "metadata": {},
   "outputs": [],
   "source": [
    "import numpy as np\n",
    "import pandas as pd\n",
    "import matplotlib.pyplot as plt"
   ]
  },
  {
   "cell_type": "code",
   "execution_count": 109,
   "id": "2141d7a4",
   "metadata": {},
   "outputs": [],
   "source": [
    "col_names = [\"Student_absence\", \"grade\"]"
   ]
  },
  {
   "cell_type": "code",
   "execution_count": 126,
   "id": "1f376283",
   "metadata": {},
   "outputs": [],
   "source": [
    "df = pd.read_csv('StudentAbsenceGrade.csv')"
   ]
  },
  {
   "cell_type": "code",
   "execution_count": 127,
   "id": "b00c2fa5",
   "metadata": {},
   "outputs": [],
   "source": [
    "df[['student_absence','grade']] = df['student_absence;grade'].str.split(';', expand=True)"
   ]
  },
  {
   "cell_type": "code",
   "execution_count": 128,
   "id": "347b4d07",
   "metadata": {},
   "outputs": [
    {
     "name": "stdout",
     "output_type": "stream",
     "text": [
      "       student_absence;grade student_absence grade\n",
      "count                    156             156   156\n",
      "unique                    54              30     6\n",
      "top                     31;7              23     7\n",
      "freq                      14              24    58\n"
     ]
    }
   ],
   "source": [
    "print ( df .describe( include = 'all' ))"
   ]
  },
  {
   "cell_type": "code",
   "execution_count": 129,
   "id": "0eded912",
   "metadata": {},
   "outputs": [],
   "source": [
    "# Remove empty cells"
   ]
  },
  {
   "cell_type": "code",
   "execution_count": 130,
   "id": "a44ec47b",
   "metadata": {},
   "outputs": [
    {
     "data": {
      "text/plain": [
       "student_absence;grade    0\n",
       "student_absence          0\n",
       "grade                    0\n",
       "dtype: int64"
      ]
     },
     "execution_count": 130,
     "metadata": {},
     "output_type": "execute_result"
    }
   ],
   "source": [
    "df.isnull().sum()"
   ]
  },
  {
   "cell_type": "code",
   "execution_count": 132,
   "id": "bc357c91",
   "metadata": {},
   "outputs": [
    {
     "name": "stdout",
     "output_type": "stream",
     "text": [
      "    student_absence;grade student_absence grade\n",
      "0                    0;10               0    10\n",
      "1                    27;7              27     7\n",
      "2                     0;7               0     7\n",
      "3                    0;10               0    10\n",
      "4                    65;0              65     0\n",
      "..                    ...             ...   ...\n",
      "151                  23;7              23     7\n",
      "152                  62;2              62     2\n",
      "153                  38;7              38     7\n",
      "154                  54;0              54     0\n",
      "155                  8;12               8    12\n",
      "\n",
      "[156 rows x 3 columns]\n"
     ]
    }
   ],
   "source": [
    "print(df)"
   ]
  },
  {
   "cell_type": "code",
   "execution_count": 145,
   "id": "b793cf52",
   "metadata": {},
   "outputs": [],
   "source": [
    "#Replace values\n",
    "df.loc[df['grade']=='0', 'grade'] = '2'\n",
    "df.loc[df['grade']=='4', 'grade'] = '7'\n",
    "df.loc[df['grade']=='10', 'grade'] = '12'"
   ]
  },
  {
   "cell_type": "code",
   "execution_count": 146,
   "id": "250cae6e",
   "metadata": {},
   "outputs": [
    {
     "name": "stdout",
     "output_type": "stream",
     "text": [
      "    student_absence;grade student_absence grade\n",
      "0                    0;10               0    12\n",
      "1                    27;7              27     7\n",
      "2                     0;7               0     7\n",
      "3                    0;10               0    12\n",
      "4                    65;0              65     2\n",
      "..                    ...             ...   ...\n",
      "151                  23;7              23     7\n",
      "152                  62;2              62     2\n",
      "153                  38;7              38     7\n",
      "154                  54;0              54     2\n",
      "155                  8;12               8    12\n",
      "\n",
      "[156 rows x 3 columns]\n"
     ]
    }
   ],
   "source": [
    "print(df)"
   ]
  },
  {
   "cell_type": "code",
   "execution_count": 147,
   "id": "85be7e5d",
   "metadata": {},
   "outputs": [],
   "source": [
    "X = df[ \"student_absence\" ]\n",
    "y = df[ \"grade\" ]"
   ]
  },
  {
   "cell_type": "code",
   "execution_count": 148,
   "id": "80e9154d",
   "metadata": {},
   "outputs": [],
   "source": [
    "#Option 1 - Reshaping to (-1,1)\n",
    "X = np.array(X).reshape(-1,1)"
   ]
  },
  {
   "cell_type": "code",
   "execution_count": 149,
   "id": "8a79b3c3",
   "metadata": {},
   "outputs": [
    {
     "name": "stdout",
     "output_type": "stream",
     "text": [
      "0      12\n",
      "1       7\n",
      "2       7\n",
      "3      12\n",
      "4       2\n",
      "       ..\n",
      "151     7\n",
      "152     2\n",
      "153     7\n",
      "154     2\n",
      "155    12\n",
      "Name: grade, Length: 156, dtype: object\n"
     ]
    }
   ],
   "source": [
    "print(y)"
   ]
  },
  {
   "cell_type": "code",
   "execution_count": 150,
   "id": "79e9ca59",
   "metadata": {},
   "outputs": [
    {
     "name": "stdout",
     "output_type": "stream",
     "text": [
      "Shape of X_train =  (124, 1)\n",
      "Shape of y_train =  (124,)\n",
      "Shape of X_test =  (32, 1)\n",
      "Shape of y_test =  (32,)\n"
     ]
    }
   ],
   "source": [
    "from sklearn.model_selection import train_test_split\n",
    "X_train, X_test, y_train, y_test = train_test_split(X,y, test_size=0.2, random_state=51 )\n",
    "print (\"Shape of X_train = \", X_train.shape)\n",
    "print (\"Shape of y_train = \", y_train.shape)\n",
    "print (\"Shape of X_test = \", X_test.shape)\n",
    "print (\"Shape of y_test = \", y_test.shape)"
   ]
  },
  {
   "cell_type": "code",
   "execution_count": 154,
   "id": "e056ca31",
   "metadata": {},
   "outputs": [
    {
     "data": {
      "text/html": [
       "<style>#sk-container-id-7 {color: black;background-color: white;}#sk-container-id-7 pre{padding: 0;}#sk-container-id-7 div.sk-toggleable {background-color: white;}#sk-container-id-7 label.sk-toggleable__label {cursor: pointer;display: block;width: 100%;margin-bottom: 0;padding: 0.3em;box-sizing: border-box;text-align: center;}#sk-container-id-7 label.sk-toggleable__label-arrow:before {content: \"▸\";float: left;margin-right: 0.25em;color: #696969;}#sk-container-id-7 label.sk-toggleable__label-arrow:hover:before {color: black;}#sk-container-id-7 div.sk-estimator:hover label.sk-toggleable__label-arrow:before {color: black;}#sk-container-id-7 div.sk-toggleable__content {max-height: 0;max-width: 0;overflow: hidden;text-align: left;background-color: #f0f8ff;}#sk-container-id-7 div.sk-toggleable__content pre {margin: 0.2em;color: black;border-radius: 0.25em;background-color: #f0f8ff;}#sk-container-id-7 input.sk-toggleable__control:checked~div.sk-toggleable__content {max-height: 200px;max-width: 100%;overflow: auto;}#sk-container-id-7 input.sk-toggleable__control:checked~label.sk-toggleable__label-arrow:before {content: \"▾\";}#sk-container-id-7 div.sk-estimator input.sk-toggleable__control:checked~label.sk-toggleable__label {background-color: #d4ebff;}#sk-container-id-7 div.sk-label input.sk-toggleable__control:checked~label.sk-toggleable__label {background-color: #d4ebff;}#sk-container-id-7 input.sk-hidden--visually {border: 0;clip: rect(1px 1px 1px 1px);clip: rect(1px, 1px, 1px, 1px);height: 1px;margin: -1px;overflow: hidden;padding: 0;position: absolute;width: 1px;}#sk-container-id-7 div.sk-estimator {font-family: monospace;background-color: #f0f8ff;border: 1px dotted black;border-radius: 0.25em;box-sizing: border-box;margin-bottom: 0.5em;}#sk-container-id-7 div.sk-estimator:hover {background-color: #d4ebff;}#sk-container-id-7 div.sk-parallel-item::after {content: \"\";width: 100%;border-bottom: 1px solid gray;flex-grow: 1;}#sk-container-id-7 div.sk-label:hover label.sk-toggleable__label {background-color: #d4ebff;}#sk-container-id-7 div.sk-serial::before {content: \"\";position: absolute;border-left: 1px solid gray;box-sizing: border-box;top: 0;bottom: 0;left: 50%;z-index: 0;}#sk-container-id-7 div.sk-serial {display: flex;flex-direction: column;align-items: center;background-color: white;padding-right: 0.2em;padding-left: 0.2em;position: relative;}#sk-container-id-7 div.sk-item {position: relative;z-index: 1;}#sk-container-id-7 div.sk-parallel {display: flex;align-items: stretch;justify-content: center;background-color: white;position: relative;}#sk-container-id-7 div.sk-item::before, #sk-container-id-7 div.sk-parallel-item::before {content: \"\";position: absolute;border-left: 1px solid gray;box-sizing: border-box;top: 0;bottom: 0;left: 50%;z-index: -1;}#sk-container-id-7 div.sk-parallel-item {display: flex;flex-direction: column;z-index: 1;position: relative;background-color: white;}#sk-container-id-7 div.sk-parallel-item:first-child::after {align-self: flex-end;width: 50%;}#sk-container-id-7 div.sk-parallel-item:last-child::after {align-self: flex-start;width: 50%;}#sk-container-id-7 div.sk-parallel-item:only-child::after {width: 0;}#sk-container-id-7 div.sk-dashed-wrapped {border: 1px dashed gray;margin: 0 0.4em 0.5em 0.4em;box-sizing: border-box;padding-bottom: 0.4em;background-color: white;}#sk-container-id-7 div.sk-label label {font-family: monospace;font-weight: bold;display: inline-block;line-height: 1.2em;}#sk-container-id-7 div.sk-label-container {text-align: center;}#sk-container-id-7 div.sk-container {/* jupyter's `normalize.less` sets `[hidden] { display: none; }` but bootstrap.min.css set `[hidden] { display: none !important; }` so we also need the `!important` here to be able to override the default hidden behavior on the sphinx rendered scikit-learn.org. See: https://github.com/scikit-learn/scikit-learn/issues/21755 */display: inline-block !important;position: relative;}#sk-container-id-7 div.sk-text-repr-fallback {display: none;}</style><div id=\"sk-container-id-7\" class=\"sk-top-container\"><div class=\"sk-text-repr-fallback\"><pre>MLPClassifier(alpha=1e-05, hidden_layer_sizes=(6, 6), random_state=1,\n",
       "              solver=&#x27;lbfgs&#x27;)</pre><b>In a Jupyter environment, please rerun this cell to show the HTML representation or trust the notebook. <br />On GitHub, the HTML representation is unable to render, please try loading this page with nbviewer.org.</b></div><div class=\"sk-container\" hidden><div class=\"sk-item\"><div class=\"sk-estimator sk-toggleable\"><input class=\"sk-toggleable__control sk-hidden--visually\" id=\"sk-estimator-id-7\" type=\"checkbox\" checked><label for=\"sk-estimator-id-7\" class=\"sk-toggleable__label sk-toggleable__label-arrow\">MLPClassifier</label><div class=\"sk-toggleable__content\"><pre>MLPClassifier(alpha=1e-05, hidden_layer_sizes=(6, 6), random_state=1,\n",
       "              solver=&#x27;lbfgs&#x27;)</pre></div></div></div></div></div>"
      ],
      "text/plain": [
       "MLPClassifier(alpha=1e-05, hidden_layer_sizes=(6, 6), random_state=1,\n",
       "              solver='lbfgs')"
      ]
     },
     "execution_count": 154,
     "metadata": {},
     "output_type": "execute_result"
    }
   ],
   "source": [
    "from sklearn.neural_network import MLPClassifier\n",
    "\n",
    "mlp = MLPClassifier(solver='lbfgs',\n",
    "                    alpha=1e-5,\n",
    "                    hidden_layer_sizes=(6,6),\n",
    "                    random_state=1)\n",
    "\n",
    "mlp.fit(X_train, y_train)"
   ]
  },
  {
   "cell_type": "code",
   "execution_count": 155,
   "id": "b14a7f78",
   "metadata": {},
   "outputs": [],
   "source": [
    "from sklearn.metrics import classification_report,confusion_matrix"
   ]
  },
  {
   "cell_type": "code",
   "execution_count": 156,
   "id": "d7ef6a2c",
   "metadata": {},
   "outputs": [
    {
     "name": "stdout",
     "output_type": "stream",
     "text": [
      "[[ 5  0  5]\n",
      " [ 0  5  1]\n",
      " [ 0  1 15]]\n",
      "              precision    recall  f1-score   support\n",
      "\n",
      "          12       1.00      0.50      0.67        10\n",
      "           2       0.83      0.83      0.83         6\n",
      "           7       0.71      0.94      0.81        16\n",
      "\n",
      "    accuracy                           0.78        32\n",
      "   macro avg       0.85      0.76      0.77        32\n",
      "weighted avg       0.83      0.78      0.77        32\n",
      "\n"
     ]
    }
   ],
   "source": [
    "#predictions\n",
    "predictions = mlp.predict(X_test)\n",
    "\n",
    "matrix = confusion_matrix(y_test,predictions)\n",
    "print (matrix)\n",
    "print (classification_report(y_test,predictions))"
   ]
  },
  {
   "cell_type": "code",
   "execution_count": null,
   "id": "68573215",
   "metadata": {},
   "outputs": [],
   "source": []
  },
  {
   "cell_type": "code",
   "execution_count": null,
   "id": "f7c02b5f",
   "metadata": {},
   "outputs": [],
   "source": []
  }
 ],
 "metadata": {
  "kernelspec": {
   "display_name": "Python 3 (ipykernel)",
   "language": "python",
   "name": "python3"
  },
  "language_info": {
   "codemirror_mode": {
    "name": "ipython",
    "version": 3
   },
   "file_extension": ".py",
   "mimetype": "text/x-python",
   "name": "python",
   "nbconvert_exporter": "python",
   "pygments_lexer": "ipython3",
   "version": "3.9.13"
  }
 },
 "nbformat": 4,
 "nbformat_minor": 5
}
